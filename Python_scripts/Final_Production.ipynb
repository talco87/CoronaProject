{
 "cells": [
  {
   "cell_type": "code",
   "execution_count": 5,
   "id": "00d5c204",
   "metadata": {},
   "outputs": [],
   "source": [
    "from flask import Flask, redirect, url_for,jsonify,request\n",
    "from flask_cors import CORS, cross_origin\n",
    "import pandas as pd\n",
    "import pmdarima as pm\n",
    "from pmdarima import model_selection, auto_arima\n",
    "import numpy as np\n",
    "from sklearn.metrics import mean_absolute_error, mean_squared_error, r2_score\n",
    "from prophet import Prophet\n",
    "import mysql.connector"
   ]
  },
  {
   "cell_type": "code",
   "execution_count": 6,
   "id": "19c8dab0",
   "metadata": {},
   "outputs": [
    {
     "name": "stdout",
     "output_type": "stream",
     "text": [
      "<mysql.connector.connection_cext.CMySQLConnection object at 0x000002B393970850>\n"
     ]
    }
   ],
   "source": [
    "mydb = mysql.connector.connect(\n",
    "  host=\"localhost\",\n",
    "  user=\"root\",\n",
    "  password=\"Corona1234!\",\n",
    "  database=\"corona\"\n",
    ")\n",
    "print(mydb)"
   ]
  },
  {
   "cell_type": "code",
   "execution_count": 7,
   "id": "ba027e70",
   "metadata": {},
   "outputs": [],
   "source": [
    "app = Flask(__name__)\n",
    "@app.route(\"/\")\n",
    "@cross_origin()\n",
    "def home():\n",
    "    City_Code=request.args.get('cityCode')\n",
    "    City_Code=int(City_Code)\n",
    "    mycursor = mydb.cursor()\n",
    "    mycursor.execute(\"SELECT Date,Accumulated_Verified_Cases FROM city_status_vaccine_total WHERE City_Code=%s\"%City_Code)\n",
    "   \n",
    "    myresult = mycursor.fetchall()\n",
    "    df = pd.DataFrame(myresult,columns=[\"Date\",\"Accumulated_Verified_Cases\"])\n",
    "    \n",
    "    df['Date'] = pd.to_datetime(df['Date'])\n",
    "    df['Date'] = df['Date'].dt.strftime(\"%d/%m/%Y\")\n",
    "\n",
    "    df_arima = df.set_index('Date')\n",
    "    df_arima[\"avc_diff\"] = df_arima.Accumulated_Verified_Cases.diff()\n",
    "    df_arima.dropna(inplace=True)\n",
    "    \n",
    "    days4 = df_arima.tail(14)\n",
    "    days14Before = days4['avc_diff'].to_list()\n",
    "    \n",
    "    for i in range(0, len(days14Before)):\n",
    "        days14Before[i] = int(days14Before[i])\n",
    "\n",
    "    train, test = model_selection.train_test_split(df_arima['avc_diff'],train_size = 0.8)\n",
    "    arima = pm.auto_arima(train,seasonal=True)\n",
    "    forecast = arima.predict(n_periods=len(test)) \n",
    "    arima_rmse = np.sqrt(mean_squared_error(test, forecast))\n",
    "\n",
    "    df_prophet = df_arima.copy()\n",
    "    df_prophet.reset_index(inplace=True)\n",
    "    df_prophet.rename(columns={'Date': 'ds','avc_diff': 'y'}, inplace=True)    \n",
    "    \n",
    "    train, test = model_selection.train_test_split(df_prophet,train_size = 0.8)\n",
    "    m = Prophet() \n",
    "    m.fit(train)\n",
    "    \n",
    "    future = m.make_future_dataframe(periods=len(test)) \n",
    "    forecast = m    .predict(future)\n",
    "    prophet_rmse = np.sqrt(mean_squared_error(test.y, forecast.yhat[-len(test):])) \n",
    "    if (arima_rmse>prophet_rmse):\n",
    "\n",
    "        m = Prophet()\n",
    "        m.fit(df_prophet) \n",
    "        future = m.make_future_dataframe(periods=14) \n",
    "        forecast = m.predict(future)\n",
    "        future_val = forecast.yhat[-14:].to_list() \n",
    "    else:\n",
    "        df_arima2 = df_arima[['avc_diff']]\n",
    "        arima = pm.auto_arima(df_arima2) \n",
    "        future_val = list(arima.predict(n_periods=14))\n",
    " \n",
    "\n",
    "    for i in range(0, len(future_val)):\n",
    "        future_val[i] = int(future_val[i])\n",
    "    days14Before.extend(future_val)\n",
    "    return jsonify(days14Before)"
   ]
  },
  {
   "cell_type": "code",
   "execution_count": 8,
   "id": "d8a39d75",
   "metadata": {},
   "outputs": [
    {
     "name": "stdout",
     "output_type": "stream",
     "text": [
      " * Serving Flask app \"__main__\" (lazy loading)\n",
      " * Environment: production\n",
      "   WARNING: This is a development server. Do not use it in a production deployment.\n",
      "   Use a production WSGI server instead.\n",
      " * Debug mode: off\n"
     ]
    },
    {
     "name": "stderr",
     "output_type": "stream",
     "text": [
      " * Running on http://127.0.0.1:5000/ (Press CTRL+C to quit)\n",
      "INFO:werkzeug: * Running on http://127.0.0.1:5000/ (Press CTRL+C to quit)\n"
     ]
    },
    {
     "name": "stdout",
     "output_type": "stream",
     "text": [
      "[6, 3, 8, 5, 6, 7, 1, 3, 0, 5, 4, 5, 4, 1]\n"
     ]
    },
    {
     "name": "stderr",
     "output_type": "stream",
     "text": [
      "INFO:prophet:Disabling daily seasonality. Run prophet with daily_seasonality=True to override this.\n",
      "127.0.0.1 - - [02/Oct/2022 20:30:42] \"\u001b[37mGET /?cityCode=9400 HTTP/1.1\u001b[0m\" 200 -\n",
      "INFO:werkzeug:127.0.0.1 - - [02/Oct/2022 20:30:42] \"\u001b[37mGET /?cityCode=9400 HTTP/1.1\u001b[0m\" 200 -\n"
     ]
    },
    {
     "name": "stdout",
     "output_type": "stream",
     "text": [
      "[1, 10, 4, 0, 5, 1, 6, 6, 2, 0, 1, 1, 0, 5]\n"
     ]
    },
    {
     "name": "stderr",
     "output_type": "stream",
     "text": [
      "INFO:prophet:Disabling daily seasonality. Run prophet with daily_seasonality=True to override this.\n",
      "127.0.0.1 - - [02/Oct/2022 20:32:05] \"\u001b[37mGET /?cityCode=6700 HTTP/1.1\u001b[0m\" 200 -\n",
      "INFO:werkzeug:127.0.0.1 - - [02/Oct/2022 20:32:05] \"\u001b[37mGET /?cityCode=6700 HTTP/1.1\u001b[0m\" 200 -\n"
     ]
    }
   ],
   "source": [
    "if __name__ ==\"__main__\":\n",
    "    app.run()"
   ]
  },
  {
   "cell_type": "code",
   "execution_count": null,
   "id": "2310fed4",
   "metadata": {},
   "outputs": [],
   "source": []
  }
 ],
 "metadata": {
  "kernelspec": {
   "display_name": "Python 3.8.5 ('base')",
   "language": "python",
   "name": "python3"
  },
  "language_info": {
   "codemirror_mode": {
    "name": "ipython",
    "version": 3
   },
   "file_extension": ".py",
   "mimetype": "text/x-python",
   "name": "python",
   "nbconvert_exporter": "python",
   "pygments_lexer": "ipython3",
   "version": "3.8.5"
  },
  "vscode": {
   "interpreter": {
    "hash": "e6b9563c2d5f39a0f14e96863a92c28173db3617b8e00a6322a2465c297cc121"
   }
  }
 },
 "nbformat": 4,
 "nbformat_minor": 5
}
