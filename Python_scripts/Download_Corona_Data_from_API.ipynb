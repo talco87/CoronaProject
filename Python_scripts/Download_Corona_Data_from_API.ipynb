{
 "cells": [
  {
   "cell_type": "code",
   "execution_count": 1,
   "metadata": {},
   "outputs": [],
   "source": [
    "import pandas as pd\n",
    "import numpy as np\n",
    "import sys\n",
    "from urllib.request import urlopen\n",
    "from datetime import date, timedelta\n",
    "import json\n",
    "import io\n",
    "import mysql.connector"
   ]
  },
  {
   "cell_type": "markdown",
   "metadata": {},
   "source": [
    "## Reading data from API"
   ]
  },
  {
   "cell_type": "code",
   "execution_count": 2,
   "metadata": {},
   "outputs": [],
   "source": [
    "# #ליאור הרצה עם הגישה שלו, לא למחוק!!\n",
    "# mydb = mysql.connector.connect(\n",
    "#   host=\"localhost\",\n",
    "#   user=\"root\",\n",
    "#   password=\"CoronaProject1234!\",\n",
    "#   database=\"corona\"\n",
    "# )\n",
    "\n",
    "# print(mydb)"
   ]
  },
  {
   "cell_type": "code",
   "execution_count": 3,
   "metadata": {},
   "outputs": [],
   "source": [
    "# קישור ל-MYSQL\n",
    "mydb = mysql.connector.connect(\n",
    "  host=\"localhost\",\n",
    "  user=\"root\",\n",
    "  password=\"Corona1234!\",\n",
    "  database=\"corona\"\n",
    ")"
   ]
  },
  {
   "cell_type": "code",
   "execution_count": 4,
   "metadata": {},
   "outputs": [
    {
     "data": {
      "text/plain": [
       "['cities_names_codes', 'city_status_vaccine_total']"
      ]
     },
     "execution_count": 4,
     "metadata": {},
     "output_type": "execute_result"
    }
   ],
   "source": [
    "# בדיקה האם יש כבר טבלה כזאת במסד\n",
    "mycursor = mydb.cursor()\n",
    "\n",
    "mycursor.execute(\"SHOW TABLES\")\n",
    "\n",
    "tables_list = []\n",
    "for table in mycursor:\n",
    "      tables_list+=table\n",
    "tables_list"
   ]
  },
  {
   "cell_type": "code",
   "execution_count": 5,
   "metadata": {},
   "outputs": [
    {
     "name": "stdout",
     "output_type": "stream",
     "text": [
      "Table already exist\n"
     ]
    }
   ],
   "source": [
    "flag_table_in_DB = False\n",
    "\n",
    "if 'city_status_vaccine_total' in tables_list:\n",
    "    flag_table_in_DB = True\n",
    "    print ('Table already exist')\n",
    "else:\n",
    "    mycursor = mydb.cursor()\n",
    "    mycursor.execute(\"CREATE TABLE city_status_vaccine_total (City_Code INT NOT NULL, Date Date NOT NULL, Accumulated_Verified_Cases INT, Accumulated_Recovered INT,Accumulated_Deaths INT, Accumulated_Number_Of_Tests INT, Accumulated_Vaccination_First_Dose INT, Accumulated_Vaccination_Second_Dose INT, Accumulated_Vaccination_Third_Dose INT, City_Color TEXT, Final_Score DOUBLE,   PRIMARY KEY (City_Code, Date))\")\n",
    "    print ('Table created')"
   ]
  },
  {
   "cell_type": "code",
   "execution_count": 6,
   "metadata": {},
   "outputs": [
    {
     "name": "stdout",
     "output_type": "stream",
     "text": [
      "2022-08-14\n"
     ]
    }
   ],
   "source": [
    "# שליפת היום האחרון שמכיל נתונים ב-SQL\n",
    "mycursor = mydb.cursor()\n",
    "mycursor.execute(\"SELECT max(Date) FROM city_status_vaccine_total\")    \n",
    "myresult = mycursor.fetchall()\n",
    "if len(str(myresult)) > 1:\n",
    "    last_date_db = myresult\n",
    "    last_date_db = last_date_db[0][0]\n",
    "else:\n",
    "    last_date_db= date(2020,3, 10) # 11/03/2020 FIRST DAY OF COVID-19 DATA\n",
    "print (last_date_db)"
   ]
  },
  {
   "cell_type": "code",
   "execution_count": 7,
   "metadata": {},
   "outputs": [],
   "source": [
    "# פונקציה שמקבלת תאריך ומחשבת מה היום הבא, \n",
    "def calculate_next_day(last_day):\n",
    "    next_day = date(last_day.year,last_day.month,last_day.day) + timedelta(days=1)\n",
    "    return next_day"
   ]
  },
  {
   "cell_type": "code",
   "execution_count": 8,
   "metadata": {},
   "outputs": [
    {
     "name": "stdout",
     "output_type": "stream",
     "text": [
      "2022-08-15\n",
      "2022-08-16\n",
      "2022-08-17\n",
      "2022-08-18\n",
      "2022-08-19\n",
      "2022-08-20\n",
      "2022-08-21\n",
      "2022-08-22\n",
      "2022-08-23\n"
     ]
    }
   ],
   "source": [
    "# הורדת מידע רמזור = סטטוס\n",
    "df_Corona_City_Status = pd.DataFrame()\n",
    "next_day = calculate_next_day(last_date_db)\n",
    "while (1==1):\n",
    "    resource_id_vaccine = '8a21d39d-91e3-40db-aca1-f73f7ab1df69'\n",
    "    url = 'https://data.gov.il/api/3/action/datastore_search?resource_id={}&q={}&limit=5000'.format(resource_id_vaccine,next_day)\n",
    "    fileobj = urlopen(url)\n",
    "    # convert to utf-8 and to dict\n",
    "    with urlopen(url) as r, \\\n",
    "         io.TextIOWrapper(r, encoding=r.headers.get_content_charset('utf-8')) as file:\n",
    "        ramzor_result = json.load(file)\n",
    "        json_ramzor_data = ramzor_result['result']['records']\n",
    "    if (len(json_ramzor_data) < 1):\n",
    "        x = 0\n",
    "        break\n",
    "    df_ramzor = pd.DataFrame.from_dict(json_ramzor_data)\n",
    "    df_Corona_City_Status = df_Corona_City_Status.append(df_ramzor,ignore_index=True)\n",
    "    print(next_day)\n",
    "    next_day = calculate_next_day(next_day)\n"
   ]
  },
  {
   "cell_type": "code",
   "execution_count": 9,
   "metadata": {},
   "outputs": [],
   "source": [
    "df_Corona_City_Status = df_Corona_City_Status.drop_duplicates(subset=['Date', 'City_Code'], keep='last')"
   ]
  },
  {
   "cell_type": "code",
   "execution_count": 10,
   "metadata": {
    "scrolled": true
   },
   "outputs": [
    {
     "data": {
      "text/plain": [
       "datetime.date(2022, 8, 23)"
      ]
     },
     "execution_count": 10,
     "metadata": {},
     "output_type": "execute_result"
    }
   ],
   "source": [
    "# הוצאת התאריך האחרון של טבלת הרמזור שהורדה\n",
    "# על מנת להוריד נתונים עד לאותו תאריך מטבלת חיסונים\n",
    "last_date_ramzor = max(df_Corona_City_Status['Date'])\n",
    "last_date_ramzor = pd.to_datetime(last_date_ramzor).date()\n",
    "last_date_ramzor\n"
   ]
  },
  {
   "cell_type": "code",
   "execution_count": 11,
   "metadata": {},
   "outputs": [
    {
     "name": "stdout",
     "output_type": "stream",
     "text": [
      "2022-08-15\n",
      "2022-08-16\n",
      "2022-08-17\n",
      "2022-08-18\n",
      "2022-08-19\n",
      "2022-08-20\n",
      "2022-08-21\n"
     ]
    }
   ],
   "source": [
    "# מוריד מידע חיסונים\n",
    "df_vaccine = pd.DataFrame()\n",
    "next_day = calculate_next_day(last_date_db)\n",
    "\n",
    "while (1==1):\n",
    "    resource_id_vaccine = 'd07c0771-01a8-43b2-96cc-c6154e7fa9bd'\n",
    "    url = 'https://data.gov.il/api/3/action/datastore_search?resource_id={}&q={}&limit=5000'.format(resource_id_vaccine,next_day)\n",
    "    fileobj = urlopen(url)\n",
    "    # convert to utf-8 and to dict\n",
    "    with urlopen(url) as r, \\\n",
    "         io.TextIOWrapper(r, encoding=r.headers.get_content_charset('utf-8')) as file:\n",
    "        vaccine_result = json.load(file)\n",
    "        json_vaccine_data = vaccine_result['result']['records']\n",
    "    if ((next_day >= last_date_ramzor) or (len(json_vaccine_data) < 1)):\n",
    "        x = 0\n",
    "        break\n",
    "    df_vaccine_tmp = pd.DataFrame.from_dict(json_vaccine_data)\n",
    "    df_vaccine = df_vaccine.append(df_vaccine_tmp,ignore_index=True)\n",
    "    print(next_day)\n",
    "    next_day = calculate_next_day(next_day)\n",
    "    "
   ]
  },
  {
   "cell_type": "code",
   "execution_count": 12,
   "metadata": {},
   "outputs": [],
   "source": [
    "# אם טבלת החיסונים ריקה = אין מידע - מפסיק את ריצת הקוד\n",
    "if(len(df_vaccine)<1):\n",
    "    print('There is no new data to update. Closing the script.')\n",
    "    sys.exit()\n"
   ]
  },
  {
   "cell_type": "code",
   "execution_count": 13,
   "metadata": {},
   "outputs": [],
   "source": [
    "## ניקוי המידע\n",
    "# מוחק עמודות בינאריות, מס' מאושפזים ושם עיר \n",
    "df_vaccine.drop(columns=['new_cases_on_date','new_recoveries_on_date','new_hospitalized_on_date','new_deaths_on_date','new_diagnostic_tests_on_date','new_vacc_first_dose_on_date','new_vacc_second_dose_on_date','new_vacc_third_dose_on_date','accumulated_hospitalized','town','rank'], inplace=True)\n"
   ]
  },
  {
   "cell_type": "code",
   "execution_count": 14,
   "metadata": {
    "scrolled": true
   },
   "outputs": [],
   "source": [
    "# מחליף שמות של עמודות לפי ההגדרה באקסל שלנו\n",
    "df_vaccine = df_vaccine.rename(columns={\"town_code\": \"City_Code\",\n",
    "                           \"agas_code\": \"Agas_Code\",\n",
    "                           \"town\": \"City_name\",\n",
    "                           \"date\":\"Date\",\n",
    "                           \"accumulated_cases\":\"Accumulated_Verified_Cases\",\n",
    "                           \"accumulated_recoveries\":\"Accumulated_Recovered\",\n",
    "                           \"accumulated_deaths\":\"Accumulated_Deaths\",\n",
    "                           \"accumulated_diagnostic_tests\":\"Accumulated_Number_Of_Tests\",\n",
    "                           \"accumulated_vaccination_first_dose\":\"Accumulated_Vaccination_First_Dose\",\n",
    "                           \"accumulated_vaccination_second_dose\":\"Accumulated_Vaccination_Second_Dose\",\n",
    "                           \"accumulated_vaccination_third_dose\":\"Accumulated_Vaccination_Third_Dose\"\n",
    "                          })"
   ]
  },
  {
   "cell_type": "code",
   "execution_count": 15,
   "metadata": {},
   "outputs": [],
   "source": [
    "# ממיר ערכים של 15> ל-7\n",
    "df_vaccine.loc[df_vaccine['Accumulated_Verified_Cases'] == '<15', 'Accumulated_Verified_Cases'] = 7\n",
    "df_vaccine.loc[df_vaccine['Accumulated_Recovered'] == '<15', 'Accumulated_Recovered'] = 7\n",
    "df_vaccine.loc[df_vaccine['Accumulated_Deaths'] == '<15', 'Accumulated_Deaths'] = 7\n",
    "df_vaccine.loc[df_vaccine['Accumulated_Number_Of_Tests'] == '<15', 'Accumulated_Number_Of_Tests'] = 7\n",
    "df_vaccine.loc[df_vaccine['Accumulated_Vaccination_First_Dose'] == '<15', 'Accumulated_Vaccination_First_Dose'] = 7\n",
    "df_vaccine.loc[df_vaccine['Accumulated_Vaccination_Second_Dose'] == '<15', 'Accumulated_Vaccination_Second_Dose'] = 7\n",
    "df_vaccine.loc[df_vaccine['Accumulated_Vaccination_Third_Dose'] == '<15', 'Accumulated_Vaccination_Third_Dose'] = 7"
   ]
  },
  {
   "cell_type": "code",
   "execution_count": 16,
   "metadata": {},
   "outputs": [],
   "source": [
    "# המרת סוגי הנתונים בשדות\n",
    "df_vaccine['Date'] = pd.to_datetime(df_vaccine['Date'])\n",
    "\n",
    "cols = ['Accumulated_Verified_Cases','Accumulated_Recovered','Accumulated_Deaths','Accumulated_Number_Of_Tests','Accumulated_Vaccination_First_Dose','Accumulated_Vaccination_Second_Dose','Accumulated_Vaccination_Third_Dose']\n",
    "df_vaccine[cols] = df_vaccine[cols].apply(pd.to_numeric)\n",
    "df_vaccine[cols] = df_vaccine[cols].astype(int)\n"
   ]
  },
  {
   "cell_type": "code",
   "execution_count": 17,
   "metadata": {},
   "outputs": [
    {
     "data": {
      "text/html": [
       "<div>\n",
       "<style scoped>\n",
       "    .dataframe tbody tr th:only-of-type {\n",
       "        vertical-align: middle;\n",
       "    }\n",
       "\n",
       "    .dataframe tbody tr th {\n",
       "        vertical-align: top;\n",
       "    }\n",
       "\n",
       "    .dataframe thead th {\n",
       "        text-align: right;\n",
       "    }\n",
       "</style>\n",
       "<table border=\"1\" class=\"dataframe\">\n",
       "  <thead>\n",
       "    <tr style=\"text-align: right;\">\n",
       "      <th></th>\n",
       "      <th>_id</th>\n",
       "      <th>City_Code</th>\n",
       "      <th>Agas_Code</th>\n",
       "      <th>Date</th>\n",
       "      <th>Accumulated_Verified_Cases</th>\n",
       "      <th>Accumulated_Recovered</th>\n",
       "      <th>Accumulated_Deaths</th>\n",
       "      <th>Accumulated_Number_Of_Tests</th>\n",
       "      <th>Accumulated_Vaccination_First_Dose</th>\n",
       "      <th>Accumulated_Vaccination_Second_Dose</th>\n",
       "      <th>Accumulated_Vaccination_Third_Dose</th>\n",
       "    </tr>\n",
       "  </thead>\n",
       "  <tbody>\n",
       "    <tr>\n",
       "      <th>0</th>\n",
       "      <td>1283154</td>\n",
       "      <td>8400</td>\n",
       "      <td>0214</td>\n",
       "      <td>2022-08-15</td>\n",
       "      <td>2034</td>\n",
       "      <td>2022</td>\n",
       "      <td>7</td>\n",
       "      <td>23621</td>\n",
       "      <td>2890</td>\n",
       "      <td>2723</td>\n",
       "      <td>2162</td>\n",
       "    </tr>\n",
       "    <tr>\n",
       "      <th>1</th>\n",
       "      <td>1447650</td>\n",
       "      <td>9500</td>\n",
       "      <td>0003</td>\n",
       "      <td>2022-08-15</td>\n",
       "      <td>3099</td>\n",
       "      <td>3086</td>\n",
       "      <td>7</td>\n",
       "      <td>33634</td>\n",
       "      <td>4102</td>\n",
       "      <td>3908</td>\n",
       "      <td>3069</td>\n",
       "    </tr>\n",
       "    <tr>\n",
       "      <th>2</th>\n",
       "      <td>953178</td>\n",
       "      <td>6600</td>\n",
       "      <td>0415</td>\n",
       "      <td>2022-08-15</td>\n",
       "      <td>1997</td>\n",
       "      <td>1992</td>\n",
       "      <td>7</td>\n",
       "      <td>21072</td>\n",
       "      <td>2613</td>\n",
       "      <td>2468</td>\n",
       "      <td>1848</td>\n",
       "    </tr>\n",
       "    <tr>\n",
       "      <th>3</th>\n",
       "      <td>968376</td>\n",
       "      <td>6600</td>\n",
       "      <td>0615</td>\n",
       "      <td>2022-08-15</td>\n",
       "      <td>1524</td>\n",
       "      <td>1509</td>\n",
       "      <td>7</td>\n",
       "      <td>14481</td>\n",
       "      <td>1948</td>\n",
       "      <td>1803</td>\n",
       "      <td>1337</td>\n",
       "    </tr>\n",
       "    <tr>\n",
       "      <th>4</th>\n",
       "      <td>506892</td>\n",
       "      <td>3000</td>\n",
       "      <td>1016</td>\n",
       "      <td>2022-08-15</td>\n",
       "      <td>1762</td>\n",
       "      <td>1755</td>\n",
       "      <td>7</td>\n",
       "      <td>16496</td>\n",
       "      <td>1802</td>\n",
       "      <td>1464</td>\n",
       "      <td>990</td>\n",
       "    </tr>\n",
       "    <tr>\n",
       "      <th>...</th>\n",
       "      <td>...</td>\n",
       "      <td>...</td>\n",
       "      <td>...</td>\n",
       "      <td>...</td>\n",
       "      <td>...</td>\n",
       "      <td>...</td>\n",
       "      <td>...</td>\n",
       "      <td>...</td>\n",
       "      <td>...</td>\n",
       "      <td>...</td>\n",
       "      <td>...</td>\n",
       "    </tr>\n",
       "    <tr>\n",
       "      <th>11609</th>\n",
       "      <td>846708</td>\n",
       "      <td>6200</td>\n",
       "      <td>0212</td>\n",
       "      <td>2022-08-21</td>\n",
       "      <td>1695</td>\n",
       "      <td>1672</td>\n",
       "      <td>15</td>\n",
       "      <td>19639</td>\n",
       "      <td>2751</td>\n",
       "      <td>2619</td>\n",
       "      <td>2083</td>\n",
       "    </tr>\n",
       "    <tr>\n",
       "      <th>11610</th>\n",
       "      <td>92082</td>\n",
       "      <td>326</td>\n",
       "      <td>0</td>\n",
       "      <td>2022-08-21</td>\n",
       "      <td>1250</td>\n",
       "      <td>1240</td>\n",
       "      <td>7</td>\n",
       "      <td>16660</td>\n",
       "      <td>1893</td>\n",
       "      <td>1816</td>\n",
       "      <td>1508</td>\n",
       "    </tr>\n",
       "    <tr>\n",
       "      <th>11611</th>\n",
       "      <td>880770</td>\n",
       "      <td>6300</td>\n",
       "      <td>0031</td>\n",
       "      <td>2022-08-21</td>\n",
       "      <td>1728</td>\n",
       "      <td>1724</td>\n",
       "      <td>7</td>\n",
       "      <td>21766</td>\n",
       "      <td>2642</td>\n",
       "      <td>2578</td>\n",
       "      <td>2103</td>\n",
       "    </tr>\n",
       "    <tr>\n",
       "      <th>11612</th>\n",
       "      <td>1114104</td>\n",
       "      <td>7400</td>\n",
       "      <td>0413</td>\n",
       "      <td>2022-08-21</td>\n",
       "      <td>2149</td>\n",
       "      <td>2139</td>\n",
       "      <td>7</td>\n",
       "      <td>26134</td>\n",
       "      <td>3384</td>\n",
       "      <td>3239</td>\n",
       "      <td>2610</td>\n",
       "    </tr>\n",
       "    <tr>\n",
       "      <th>11613</th>\n",
       "      <td>167178</td>\n",
       "      <td>874</td>\n",
       "      <td>0003</td>\n",
       "      <td>2022-08-21</td>\n",
       "      <td>2295</td>\n",
       "      <td>2280</td>\n",
       "      <td>7</td>\n",
       "      <td>23839</td>\n",
       "      <td>2573</td>\n",
       "      <td>2332</td>\n",
       "      <td>1685</td>\n",
       "    </tr>\n",
       "  </tbody>\n",
       "</table>\n",
       "<p>11614 rows × 11 columns</p>\n",
       "</div>"
      ],
      "text/plain": [
       "           _id City_Code Agas_Code       Date  Accumulated_Verified_Cases  \\\n",
       "0      1283154      8400      0214 2022-08-15                        2034   \n",
       "1      1447650      9500      0003 2022-08-15                        3099   \n",
       "2       953178      6600      0415 2022-08-15                        1997   \n",
       "3       968376      6600      0615 2022-08-15                        1524   \n",
       "4       506892      3000      1016 2022-08-15                        1762   \n",
       "...        ...       ...       ...        ...                         ...   \n",
       "11609   846708      6200      0212 2022-08-21                        1695   \n",
       "11610    92082       326         0 2022-08-21                        1250   \n",
       "11611   880770      6300      0031 2022-08-21                        1728   \n",
       "11612  1114104      7400      0413 2022-08-21                        2149   \n",
       "11613   167178       874      0003 2022-08-21                        2295   \n",
       "\n",
       "       Accumulated_Recovered  Accumulated_Deaths  Accumulated_Number_Of_Tests  \\\n",
       "0                       2022                   7                        23621   \n",
       "1                       3086                   7                        33634   \n",
       "2                       1992                   7                        21072   \n",
       "3                       1509                   7                        14481   \n",
       "4                       1755                   7                        16496   \n",
       "...                      ...                 ...                          ...   \n",
       "11609                   1672                  15                        19639   \n",
       "11610                   1240                   7                        16660   \n",
       "11611                   1724                   7                        21766   \n",
       "11612                   2139                   7                        26134   \n",
       "11613                   2280                   7                        23839   \n",
       "\n",
       "       Accumulated_Vaccination_First_Dose  \\\n",
       "0                                    2890   \n",
       "1                                    4102   \n",
       "2                                    2613   \n",
       "3                                    1948   \n",
       "4                                    1802   \n",
       "...                                   ...   \n",
       "11609                                2751   \n",
       "11610                                1893   \n",
       "11611                                2642   \n",
       "11612                                3384   \n",
       "11613                                2573   \n",
       "\n",
       "       Accumulated_Vaccination_Second_Dose  Accumulated_Vaccination_Third_Dose  \n",
       "0                                     2723                                2162  \n",
       "1                                     3908                                3069  \n",
       "2                                     2468                                1848  \n",
       "3                                     1803                                1337  \n",
       "4                                     1464                                 990  \n",
       "...                                    ...                                 ...  \n",
       "11609                                 2619                                2083  \n",
       "11610                                 1816                                1508  \n",
       "11611                                 2578                                2103  \n",
       "11612                                 3239                                2610  \n",
       "11613                                 2332                                1685  \n",
       "\n",
       "[11614 rows x 11 columns]"
      ]
     },
     "execution_count": 17,
     "metadata": {},
     "output_type": "execute_result"
    }
   ],
   "source": [
    "# הופך נתונים שהם null ל-0\n",
    "df_vaccine.fillna(0)"
   ]
  },
  {
   "cell_type": "code",
   "execution_count": 18,
   "metadata": {},
   "outputs": [],
   "source": [
    "# מקבץ לפי קוד עיר ותאריך וסוכם את כל הנתונים  \n",
    "# (מונע מקוד עיר ותאריך להפוך לאינדקס)\n",
    "df_vaccine_group = df_vaccine.groupby(['City_Code', 'Date'],as_index=False).sum()"
   ]
  },
  {
   "cell_type": "code",
   "execution_count": 19,
   "metadata": {},
   "outputs": [],
   "source": [
    "# מוחק עמודה של קוד אזור  \n",
    "try:\n",
    "    df_vaccine_group.drop(['Agas_Code'],axis=1, inplace=True)\n",
    "    df_vaccine_group.drop(columns=['_id'], inplace=True)\n",
    "except:\n",
    "    pass"
   ]
  },
  {
   "cell_type": "code",
   "execution_count": 20,
   "metadata": {},
   "outputs": [],
   "source": [
    "dup = df_vaccine_group[df_vaccine_group.duplicated(['City_Code','Date'])]"
   ]
  },
  {
   "cell_type": "code",
   "execution_count": 21,
   "metadata": {},
   "outputs": [],
   "source": [
    "df_vaccine_group = df_vaccine_group.drop_duplicates(subset=['Date', 'City_Code'], keep='last')"
   ]
  },
  {
   "cell_type": "code",
   "execution_count": 22,
   "metadata": {},
   "outputs": [],
   "source": [
    "#  פונקציה שמוחקת מהטבלה את הערים שלא נמצאות בטבלה השניה\n",
    "\n",
    "def delete_cities(df,cities_list):\n",
    "    for i in cities_list:\n",
    "        df = df.loc[df['City_Code']!=i]\n",
    "    return df"
   ]
  },
  {
   "cell_type": "code",
   "execution_count": 23,
   "metadata": {},
   "outputs": [],
   "source": [
    "cities_codes_to_drop_1 = ['190']\n",
    "df_vaccine_group = delete_cities(df_vaccine_group,cities_codes_to_drop_1)"
   ]
  },
  {
   "cell_type": "code",
   "execution_count": 24,
   "metadata": {},
   "outputs": [
    {
     "data": {
      "text/plain": [
       "1828"
      ]
     },
     "execution_count": 24,
     "metadata": {},
     "output_type": "execute_result"
    }
   ],
   "source": [
    "len(df_vaccine_group)"
   ]
  },
  {
   "cell_type": "markdown",
   "metadata": {},
   "source": [
    "# Clean the table and Combine with Ramzor table"
   ]
  },
  {
   "cell_type": "code",
   "execution_count": 25,
   "metadata": {},
   "outputs": [],
   "source": [
    "df_Corona_City_Status.drop(columns=['_id','rank'], inplace=True)"
   ]
  },
  {
   "cell_type": "code",
   "execution_count": 26,
   "metadata": {},
   "outputs": [],
   "source": [
    "# מוחק עמודות של שם עיר, ועמודה כפולה של בדיקות\n",
    "df_Corona_City_Status.drop(columns=['Cumulated_number_of_diagnostic_tests','City_Name'], inplace=True)"
   ]
  },
  {
   "cell_type": "code",
   "execution_count": 27,
   "metadata": {},
   "outputs": [],
   "source": [
    "# מחליף שמות של עמודות לפי ההגדרה במסד שלנו\n",
    "df_Corona_City_Status = df_Corona_City_Status.rename(columns={\n",
    "                           \"Cumulative_verified_cases\":\"Accumulated_Verified_Cases\",\n",
    "                           \"Cumulated_recovered\":\"Accumulated_Recovered\",\n",
    "                           \"Cumulated_deaths\":\"Accumulated_Deaths\",\n",
    "                           \"Cumulated_number_of_tests\":\"Accumulated_Number_Of_Tests\",\n",
    "                           \"colour\":\"City_Color\",\n",
    "                           \"final_score\":\"Final_Score\",\n",
    "                          })"
   ]
  },
  {
   "cell_type": "code",
   "execution_count": 28,
   "metadata": {},
   "outputs": [],
   "source": [
    "# ממיר ערכים של 15> ל-7\n",
    "df_Corona_City_Status.loc[df_Corona_City_Status['Accumulated_Verified_Cases'] == '<15', 'Accumulated_Verified_Cases'] = 7\n",
    "df_Corona_City_Status.loc[df_Corona_City_Status['Accumulated_Recovered'] == '<15', 'Accumulated_Recovered'] = 7\n",
    "df_Corona_City_Status.loc[df_Corona_City_Status['Accumulated_Deaths'] == '<15', 'Accumulated_Deaths'] = 7\n",
    "df_Corona_City_Status.loc[df_Corona_City_Status['Accumulated_Number_Of_Tests'] == '<15', 'Accumulated_Number_Of_Tests'] = 7"
   ]
  },
  {
   "cell_type": "code",
   "execution_count": 29,
   "metadata": {},
   "outputs": [],
   "source": [
    "# המרת סוגי הנתונים בשדות\n",
    "df_Corona_City_Status['Date'] = pd.to_datetime(df_Corona_City_Status['Date'])\n",
    "df_Corona_City_Status = df_Corona_City_Status.astype({\"Accumulated_Verified_Cases\": int})\n",
    "df_Corona_City_Status = df_Corona_City_Status.astype({\"Accumulated_Verified_Cases\": int})\n",
    "df_Corona_City_Status = df_Corona_City_Status.astype({\"Accumulated_Recovered\": int})\n",
    "df_Corona_City_Status = df_Corona_City_Status.astype({\"Accumulated_Deaths\": int})\n",
    "df_Corona_City_Status = df_Corona_City_Status.astype({\"Accumulated_Number_Of_Tests\": int})\n",
    "df_Corona_City_Status = df_Corona_City_Status.astype({\"City_Color\": \"string\"})"
   ]
  },
  {
   "cell_type": "code",
   "execution_count": 30,
   "metadata": {},
   "outputs": [],
   "source": [
    "# הופך נאל ללא רלוונטי\n",
    "df_Corona_City_Status['City_Color'] = df_Corona_City_Status['City_Color'].fillna('')\n",
    "df_Corona_City_Status['City_Color'] = df_Corona_City_Status['City_Color'].replace('NULL','Irrelevant')\n",
    "df_Corona_City_Status['Final_Score'] = df_Corona_City_Status['Final_Score'].fillna(-1)\n",
    "df_Corona_City_Status['Final_Score'] = df_Corona_City_Status['Final_Score'].replace('NULL',-1)\n",
    "\n",
    "df_Corona_City_Status = df_Corona_City_Status.astype({\"Final_Score\": float})"
   ]
  },
  {
   "cell_type": "code",
   "execution_count": 31,
   "metadata": {},
   "outputs": [],
   "source": [
    "# מוחק מהטבלה את הערים שלא נמצאות בטבלה השניה\n",
    "cities_codes_to_drop_2 = ['190','649','694','939','961','963','964','965','966','967',\n",
    "                          '968','997','1169','1170','1239','1375','3659','3768','3787',\n",
    "                          '3793','9999','7000', '709', '7100', '7200', '7300', '7400', \n",
    "                          '7500', '7600', '763', '7700', '7800', '7900', '8000', '812',\n",
    "                          '8200', '8300','831', '8400', '8500', '8600', '8700', '874']\n",
    "df_Corona_City_Status = delete_cities(df_Corona_City_Status,cities_codes_to_drop_2)"
   ]
  },
  {
   "cell_type": "code",
   "execution_count": 32,
   "metadata": {},
   "outputs": [
    {
     "data": {
      "text/plain": [
       "1828"
      ]
     },
     "execution_count": 32,
     "metadata": {},
     "output_type": "execute_result"
    }
   ],
   "source": [
    "#אורך טבלת חיסונים\n",
    "len(df_vaccine_group)"
   ]
  },
  {
   "cell_type": "code",
   "execution_count": 33,
   "metadata": {},
   "outputs": [
    {
     "data": {
      "text/plain": [
       "2162"
      ]
     },
     "execution_count": 33,
     "metadata": {},
     "output_type": "execute_result"
    }
   ],
   "source": [
    "#אורך טבלת רמזור\n",
    "len(df_Corona_City_Status)"
   ]
  },
  {
   "cell_type": "code",
   "execution_count": 34,
   "metadata": {},
   "outputs": [
    {
     "data": {
      "text/plain": [
       "1674"
      ]
     },
     "execution_count": 34,
     "metadata": {},
     "output_type": "execute_result"
    }
   ],
   "source": [
    "#איחוד של שתי הטבלאות, על סמך קוד עיר ותאריך\n",
    "#עם פרמטר INNER\n",
    "#ששומר שורות שמכילות ערכים רק בשתי הטבלאות  \n",
    "merged_df = pd.merge(df_vaccine_group, df_Corona_City_Status, how='inner', on=['Date','City_Code'])\n",
    "len(merged_df)"
   ]
  },
  {
   "cell_type": "code",
   "execution_count": 35,
   "metadata": {
    "scrolled": true
   },
   "outputs": [],
   "source": [
    "new_dates = pd.unique(merged_df['Date'])\n",
    "new_dates = pd.to_datetime(new_dates)"
   ]
  },
  {
   "cell_type": "code",
   "execution_count": 36,
   "metadata": {},
   "outputs": [],
   "source": [
    "have_new_dates = False\n",
    "for i in new_dates:\n",
    "    if i > last_date_db:\n",
    "        have_new_dates = True\n",
    "if have_new_dates == False:\n",
    "    print('There is no new data to update. Closing the script.')\n",
    "    sys.exit()"
   ]
  },
  {
   "cell_type": "code",
   "execution_count": 37,
   "metadata": {},
   "outputs": [],
   "source": [
    "dup = merged_df[merged_df.duplicated(['City_Code','Date'])]"
   ]
  },
  {
   "cell_type": "code",
   "execution_count": 38,
   "metadata": {},
   "outputs": [],
   "source": [
    "merged_df = merged_df.drop_duplicates(subset=['Date', 'City_Code'], keep='last')"
   ]
  },
  {
   "cell_type": "code",
   "execution_count": 39,
   "metadata": {},
   "outputs": [],
   "source": [
    "#מחיקה של עמודות שמכילות אותם נתונים \n",
    "#היו קצת שוני בין העמודות, מחקנו את הקטן יותר שהיה בטבלת החיסונים\n",
    "merged_df.drop(['Accumulated_Verified_Cases_x','Accumulated_Recovered_x','Accumulated_Deaths_x','Accumulated_Number_Of_Tests_x'],axis=1, inplace=True)"
   ]
  },
  {
   "cell_type": "code",
   "execution_count": 40,
   "metadata": {},
   "outputs": [],
   "source": [
    "#שינוי סדר העמודות, כדי שמספר נדבקים, מתים, מחלימים, בדיקות יהיה בתחילת הטבלה \n",
    "colomn_new_list = [\n",
    " 'City_Code',\n",
    " 'Date',\n",
    " 'Accumulated_Verified_Cases_y',\n",
    " 'Accumulated_Recovered_y',\n",
    " 'Accumulated_Deaths_y',\n",
    " 'Accumulated_Number_Of_Tests_y',\n",
    " 'Accumulated_Vaccination_First_Dose',\n",
    " 'Accumulated_Vaccination_Second_Dose',\n",
    " 'Accumulated_Vaccination_Third_Dose',\n",
    " 'City_Color',\n",
    " 'Final_Score']\n",
    "merged_df = merged_df[colomn_new_list]"
   ]
  },
  {
   "cell_type": "code",
   "execution_count": 41,
   "metadata": {
    "scrolled": true
   },
   "outputs": [],
   "source": [
    "# מחליף שמות של עמודות לפי ההגדרה באקסל שלנו\n",
    "merged_df = merged_df.rename(columns={\n",
    "                           \"Accumulated_Verified_Cases_y\": \"Accumulated_Verified_Cases\",\n",
    "                           \"Accumulated_Recovered_y\":\"Accumulated_Recovered\",\n",
    "                           \"Accumulated_Deaths_y\":\"Accumulated_Deaths\",\n",
    "                           \"Accumulated_Number_Of_Tests_y\":\"Accumulated_Number_Of_Tests\",\n",
    "                          })"
   ]
  },
  {
   "cell_type": "code",
   "execution_count": 42,
   "metadata": {},
   "outputs": [],
   "source": [
    "merged_df['City_Color'] = merged_df['City_Color'].replace('ירוק','Green')\n",
    "merged_df['City_Color'] = merged_df['City_Color'].replace('צהוב','Yellow')\n",
    "merged_df['City_Color'] = merged_df['City_Color'].replace('כתום','Orange')\n",
    "merged_df['City_Color'] = merged_df['City_Color'].replace('אדום','Red')"
   ]
  },
  {
   "cell_type": "code",
   "execution_count": 43,
   "metadata": {},
   "outputs": [
    {
     "data": {
      "text/plain": [
       "<StringArray>\n",
       "['Orange', 'Yellow', 'Green', 'Red']\n",
       "Length: 4, dtype: string"
      ]
     },
     "execution_count": 43,
     "metadata": {},
     "output_type": "execute_result"
    }
   ],
   "source": [
    "pd.unique(merged_df['City_Color'])"
   ]
  },
  {
   "cell_type": "code",
   "execution_count": 44,
   "metadata": {},
   "outputs": [
    {
     "name": "stdout",
     "output_type": "stream",
     "text": [
      "Number of rows that date is earlier than last_date_db:  1\n"
     ]
    }
   ],
   "source": [
    "last_date_db = pd.to_datetime(last_date_db)\n",
    "q = merged_df.Date < last_date_db \n",
    "print ('Number of rows that date is earlier than last_date_db: ',len(q[q == True])) "
   ]
  },
  {
   "cell_type": "code",
   "execution_count": 45,
   "metadata": {},
   "outputs": [],
   "source": [
    "merged_df = merged_df.drop(merged_df[merged_df.Date < last_date_db].index)"
   ]
  },
  {
   "cell_type": "code",
   "execution_count": 46,
   "metadata": {},
   "outputs": [
    {
     "data": {
      "text/plain": [
       "City_Code                                      object\n",
       "Date                                   datetime64[ns]\n",
       "Accumulated_Verified_Cases                      int32\n",
       "Accumulated_Recovered                           int32\n",
       "Accumulated_Deaths                              int32\n",
       "Accumulated_Number_Of_Tests                     int32\n",
       "Accumulated_Vaccination_First_Dose              int32\n",
       "Accumulated_Vaccination_Second_Dose             int32\n",
       "Accumulated_Vaccination_Third_Dose              int32\n",
       "City_Color                                     string\n",
       "Final_Score                                   float64\n",
       "dtype: object"
      ]
     },
     "execution_count": 46,
     "metadata": {},
     "output_type": "execute_result"
    }
   ],
   "source": [
    "merged_df.dtypes"
   ]
  },
  {
   "cell_type": "code",
   "execution_count": 47,
   "metadata": {},
   "outputs": [
    {
     "name": "stdout",
     "output_type": "stream",
     "text": [
      "number_rows_inserted:  1673\n"
     ]
    }
   ],
   "source": [
    "# מכניס ל MYSQL\n",
    "\n",
    "mycursor = mydb.cursor()\n",
    "\n",
    "cols = \"`,`\".join([str(i) for i in merged_df.columns.tolist()])\n",
    "number_rows_inserted = 0\n",
    "# לולאה שמכניסה כל שורה בדאטאפריים לתוך המסד\n",
    "for i,row in merged_df.iterrows():\n",
    "    sql = \"INSERT INTO `city_status_vaccine_total` (`\" +cols + \"`) VALUES (\" + \"%s,\"*(len(row)-1) + \"%s)\"\n",
    "    mycursor.execute(sql, tuple(row))\n",
    "    number_rows_inserted += 1\n",
    "mydb.commit()\n",
    "\n",
    "print (\"number_rows_inserted: \",number_rows_inserted)"
   ]
  }
 ],
 "metadata": {
  "celltoolbar": "Raw Cell Format",
  "kernelspec": {
   "display_name": "Python 3.8.5 ('base')",
   "language": "python",
   "name": "python3"
  },
  "language_info": {
   "codemirror_mode": {
    "name": "ipython",
    "version": 3
   },
   "file_extension": ".py",
   "mimetype": "text/x-python",
   "name": "python",
   "nbconvert_exporter": "python",
   "pygments_lexer": "ipython3",
   "version": "3.8.5"
  },
  "vscode": {
   "interpreter": {
    "hash": "e6b9563c2d5f39a0f14e96863a92c28173db3617b8e00a6322a2465c297cc121"
   }
  }
 },
 "nbformat": 4,
 "nbformat_minor": 4
}
